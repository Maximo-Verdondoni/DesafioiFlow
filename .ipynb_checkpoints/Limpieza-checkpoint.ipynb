{
 "cells": [
  {
   "cell_type": "code",
   "execution_count": 1,
   "id": "3efdf408-dab8-4912-9747-fd5c56481e5d",
   "metadata": {},
   "outputs": [],
   "source": [
    "import pandas as pd"
   ]
  },
  {
   "cell_type": "code",
   "execution_count": 2,
   "id": "d4cdc770-daa3-4cb9-855f-756dc31cee32",
   "metadata": {},
   "outputs": [],
   "source": [
    "df = pd.read_csv('./iFlowDatos.csv')"
   ]
  },
  {
   "cell_type": "code",
   "execution_count": 4,
   "id": "95689485-3c46-4e16-85a5-8b838ee50966",
   "metadata": {},
   "outputs": [
    {
     "data": {
      "text/html": [
       "<div>\n",
       "<style scoped>\n",
       "    .dataframe tbody tr th:only-of-type {\n",
       "        vertical-align: middle;\n",
       "    }\n",
       "\n",
       "    .dataframe tbody tr th {\n",
       "        vertical-align: top;\n",
       "    }\n",
       "\n",
       "    .dataframe thead th {\n",
       "        text-align: right;\n",
       "    }\n",
       "</style>\n",
       "<table border=\"1\" class=\"dataframe\">\n",
       "  <thead>\n",
       "    <tr style=\"text-align: right;\">\n",
       "      <th></th>\n",
       "      <th>iddomicilioorden</th>\n",
       "      <th>direccion</th>\n",
       "      <th>localidad</th>\n",
       "      <th>InicioHorario1</th>\n",
       "      <th>FinHorario1</th>\n",
       "      <th>latitud</th>\n",
       "      <th>longitud</th>\n",
       "      <th>cliente</th>\n",
       "      <th>mes</th>\n",
       "      <th>Bultos</th>\n",
       "      <th>Peso</th>\n",
       "      <th>Unidades</th>\n",
       "      <th>InicioVisitaPlanificado</th>\n",
       "      <th>FinVisitaPlanificado</th>\n",
       "      <th>InicioVisitaReal</th>\n",
       "      <th>FinVisitaReal</th>\n",
       "    </tr>\n",
       "  </thead>\n",
       "  <tbody>\n",
       "    <tr>\n",
       "      <th>0</th>\n",
       "      <td>74956</td>\n",
       "      <td>VIDAL 2044</td>\n",
       "      <td>CAPITAL</td>\n",
       "      <td>901</td>\n",
       "      <td>1401</td>\n",
       "      <td>-34.564779</td>\n",
       "      <td>-58.459956</td>\n",
       "      <td>70</td>\n",
       "      <td>5</td>\n",
       "      <td>2.516667</td>\n",
       "      <td>24.910</td>\n",
       "      <td>30</td>\n",
       "      <td>2024-05-23 12:06:00.000</td>\n",
       "      <td>2024-05-23 12:06:00.000</td>\n",
       "      <td>2024-05-23 14:13:53.000</td>\n",
       "      <td>2024-05-23 14:14:53.000</td>\n",
       "    </tr>\n",
       "    <tr>\n",
       "      <th>1</th>\n",
       "      <td>74956</td>\n",
       "      <td>VIDAL 2044</td>\n",
       "      <td>CAPITAL</td>\n",
       "      <td>901</td>\n",
       "      <td>1401</td>\n",
       "      <td>-34.564779</td>\n",
       "      <td>-58.459956</td>\n",
       "      <td>70</td>\n",
       "      <td>5</td>\n",
       "      <td>2.866667</td>\n",
       "      <td>26.260</td>\n",
       "      <td>38</td>\n",
       "      <td>2024-05-10 12:05:00.000</td>\n",
       "      <td>2024-05-10 12:05:00.000</td>\n",
       "      <td>2024-05-10 16:43:00.000</td>\n",
       "      <td>2024-05-10 16:43:00.000</td>\n",
       "    </tr>\n",
       "    <tr>\n",
       "      <th>2</th>\n",
       "      <td>74956</td>\n",
       "      <td>VIDAL 2044</td>\n",
       "      <td>CAPITAL</td>\n",
       "      <td>901</td>\n",
       "      <td>1401</td>\n",
       "      <td>-34.564779</td>\n",
       "      <td>-58.459956</td>\n",
       "      <td>70</td>\n",
       "      <td>5</td>\n",
       "      <td>2.400000</td>\n",
       "      <td>24.888</td>\n",
       "      <td>32</td>\n",
       "      <td>2024-05-30 12:03:00.000</td>\n",
       "      <td>2024-05-30 12:03:00.000</td>\n",
       "      <td>2024-05-30 09:41:36.000</td>\n",
       "      <td>2024-05-30 09:50:08.000</td>\n",
       "    </tr>\n",
       "    <tr>\n",
       "      <th>3</th>\n",
       "      <td>74956</td>\n",
       "      <td>VIDAL 2044</td>\n",
       "      <td>CAPITAL</td>\n",
       "      <td>901</td>\n",
       "      <td>1401</td>\n",
       "      <td>-34.564779</td>\n",
       "      <td>-58.459956</td>\n",
       "      <td>70</td>\n",
       "      <td>6</td>\n",
       "      <td>1.800000</td>\n",
       "      <td>14.040</td>\n",
       "      <td>28</td>\n",
       "      <td>2024-06-13 12:14:00.000</td>\n",
       "      <td>2024-06-13 12:14:00.000</td>\n",
       "      <td>2024-06-13 13:32:55.000</td>\n",
       "      <td>2024-06-13 13:39:55.000</td>\n",
       "    </tr>\n",
       "    <tr>\n",
       "      <th>4</th>\n",
       "      <td>74956</td>\n",
       "      <td>VIDAL 2044</td>\n",
       "      <td>CAPITAL</td>\n",
       "      <td>901</td>\n",
       "      <td>1401</td>\n",
       "      <td>-34.564779</td>\n",
       "      <td>-58.459956</td>\n",
       "      <td>70</td>\n",
       "      <td>6</td>\n",
       "      <td>2.116667</td>\n",
       "      <td>14.377</td>\n",
       "      <td>31</td>\n",
       "      <td>2024-06-27 12:27:00.000</td>\n",
       "      <td>2024-06-27 12:27:00.000</td>\n",
       "      <td>2024-06-27 15:36:00.000</td>\n",
       "      <td>2024-06-27 15:36:00.000</td>\n",
       "    </tr>\n",
       "  </tbody>\n",
       "</table>\n",
       "</div>"
      ],
      "text/plain": [
       "   iddomicilioorden   direccion localidad  InicioHorario1  FinHorario1  \\\n",
       "0             74956  VIDAL 2044   CAPITAL             901         1401   \n",
       "1             74956  VIDAL 2044   CAPITAL             901         1401   \n",
       "2             74956  VIDAL 2044   CAPITAL             901         1401   \n",
       "3             74956  VIDAL 2044   CAPITAL             901         1401   \n",
       "4             74956  VIDAL 2044   CAPITAL             901         1401   \n",
       "\n",
       "     latitud   longitud  cliente  mes    Bultos    Peso  Unidades  \\\n",
       "0 -34.564779 -58.459956       70    5  2.516667  24.910        30   \n",
       "1 -34.564779 -58.459956       70    5  2.866667  26.260        38   \n",
       "2 -34.564779 -58.459956       70    5  2.400000  24.888        32   \n",
       "3 -34.564779 -58.459956       70    6  1.800000  14.040        28   \n",
       "4 -34.564779 -58.459956       70    6  2.116667  14.377        31   \n",
       "\n",
       "   InicioVisitaPlanificado     FinVisitaPlanificado         InicioVisitaReal  \\\n",
       "0  2024-05-23 12:06:00.000  2024-05-23 12:06:00.000  2024-05-23 14:13:53.000   \n",
       "1  2024-05-10 12:05:00.000  2024-05-10 12:05:00.000  2024-05-10 16:43:00.000   \n",
       "2  2024-05-30 12:03:00.000  2024-05-30 12:03:00.000  2024-05-30 09:41:36.000   \n",
       "3  2024-06-13 12:14:00.000  2024-06-13 12:14:00.000  2024-06-13 13:32:55.000   \n",
       "4  2024-06-27 12:27:00.000  2024-06-27 12:27:00.000  2024-06-27 15:36:00.000   \n",
       "\n",
       "             FinVisitaReal  \n",
       "0  2024-05-23 14:14:53.000  \n",
       "1  2024-05-10 16:43:00.000  \n",
       "2  2024-05-30 09:50:08.000  \n",
       "3  2024-06-13 13:39:55.000  \n",
       "4  2024-06-27 15:36:00.000  "
      ]
     },
     "execution_count": 4,
     "metadata": {},
     "output_type": "execute_result"
    }
   ],
   "source": [
    "df.head()"
   ]
  },
  {
   "cell_type": "code",
   "execution_count": 5,
   "id": "064a5d75-75b3-4e1a-97e6-6132f3f668c2",
   "metadata": {},
   "outputs": [
    {
     "data": {
      "text/plain": [
       "iddomicilioorden            0\n",
       "direccion                   0\n",
       "localidad                   0\n",
       "InicioHorario1              0\n",
       "FinHorario1                 0\n",
       "latitud                    41\n",
       "longitud                   41\n",
       "cliente                     0\n",
       "mes                         0\n",
       "Bultos                      0\n",
       "Peso                        0\n",
       "Unidades                    0\n",
       "InicioVisitaPlanificado     0\n",
       "FinVisitaPlanificado        0\n",
       "InicioVisitaReal           52\n",
       "FinVisitaReal              52\n",
       "dtype: int64"
      ]
     },
     "execution_count": 5,
     "metadata": {},
     "output_type": "execute_result"
    }
   ],
   "source": [
    "df.isna().sum()"
   ]
  },
  {
   "cell_type": "code",
   "execution_count": 7,
   "id": "d1d3f8b6-c034-4aa3-b0dd-09127c5ee774",
   "metadata": {},
   "outputs": [
    {
     "data": {
      "text/plain": [
       "iddomicilioorden            6593\n",
       "direccion                   6072\n",
       "localidad                     44\n",
       "InicioHorario1                 3\n",
       "FinHorario1                    3\n",
       "latitud                     5887\n",
       "longitud                    5891\n",
       "cliente                        2\n",
       "mes                            3\n",
       "Bultos                      2391\n",
       "Peso                        8027\n",
       "Unidades                     377\n",
       "InicioVisitaPlanificado     6797\n",
       "FinVisitaPlanificado        6797\n",
       "InicioVisitaReal           16357\n",
       "FinVisitaReal              16309\n",
       "dtype: int64"
      ]
     },
     "execution_count": 7,
     "metadata": {},
     "output_type": "execute_result"
    }
   ],
   "source": [
    "df.nunique()"
   ]
  },
  {
   "cell_type": "code",
   "execution_count": 9,
   "id": "510fe5db-ab56-41a4-9767-9cf2e3516967",
   "metadata": {},
   "outputs": [
    {
     "data": {
      "text/plain": [
       "(27484, 16)"
      ]
     },
     "execution_count": 9,
     "metadata": {},
     "output_type": "execute_result"
    }
   ],
   "source": [
    "df.shape"
   ]
  },
  {
   "cell_type": "code",
   "execution_count": 25,
   "id": "14c71532-03ef-4e9d-bf4a-ffd8ccacc485",
   "metadata": {},
   "outputs": [
    {
     "data": {
      "text/plain": [
       "iddomicilioorden            6593\n",
       "direccion                   6072\n",
       "localidad                     44\n",
       "InicioHorario1                 3\n",
       "FinHorario1                    3\n",
       "latitud                     5887\n",
       "longitud                    5891\n",
       "cliente                        2\n",
       "mes                            3\n",
       "Bultos                      2391\n",
       "Peso                        8027\n",
       "Unidades                     377\n",
       "InicioVisitaPlanificado     6797\n",
       "FinVisitaPlanificado        6797\n",
       "InicioVisitaReal           16357\n",
       "FinVisitaReal              16309\n",
       "Inicio-Fin                     3\n",
       "dtype: int64"
      ]
     },
     "execution_count": 25,
     "metadata": {},
     "output_type": "execute_result"
    }
   ],
   "source": [
    "df['Inicio-Fin'] = list(zip(df['InicioHorario1'].astype(int), df['FinHorario1'].astype(int)))\n",
    "df.nunique()"
   ]
  },
  {
   "cell_type": "code",
   "execution_count": null,
   "id": "e26825bc-36e5-4038-94a9-718c60d86b94",
   "metadata": {},
   "outputs": [],
   "source": []
  }
 ],
 "metadata": {
  "kernelspec": {
   "display_name": "Python 3 (ipykernel)",
   "language": "python",
   "name": "python3"
  },
  "language_info": {
   "codemirror_mode": {
    "name": "ipython",
    "version": 3
   },
   "file_extension": ".py",
   "mimetype": "text/x-python",
   "name": "python",
   "nbconvert_exporter": "python",
   "pygments_lexer": "ipython3",
   "version": "3.10.10"
  }
 },
 "nbformat": 4,
 "nbformat_minor": 5
}
